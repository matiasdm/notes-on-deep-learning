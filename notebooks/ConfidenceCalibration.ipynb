{
 "cells": [
  {
   "cell_type": "markdown",
   "metadata": {},
   "source": [
    "# On the mutual information "
   ]
  },
  {
   "cell_type": "markdown",
   "metadata": {},
   "source": [
    "**Abstract:** Measure the mutual information between variables and how this condition the inference of labels from data is a very interesting and non-trivial topic. To illustrate some of these ideas, imagine we have digit images $X_i\\in X$ (e.g., MNIST) and their labels $y_i \\in y$. How can we measure the mutual information between the data $X$ and the labels $y$? How this mutual information can be used as a bound on the classification performance? What happens when training a dnn in terms of the mutual information. \n",
    "\n",
    "Refs:\n",
    "1. Hjelm, R. D. (2018). Mutual Information Neural Estimation.\n",
    "2. Shwartz-Ziv, R., & Tishby, N. (2017). Opening the Black Box of Deep Neural Networks via Information. \n",
    "3. Kraskov, A., & Grassberger, P. (2004). Estimating mutual information."
   ]
  },
  {
   "cell_type": "code",
   "execution_count": null,
   "metadata": {},
   "outputs": [],
   "source": []
  },
  {
   "cell_type": "code",
   "execution_count": null,
   "metadata": {},
   "outputs": [],
   "source": []
  }
 ],
 "metadata": {
  "kernelspec": {
   "display_name": "dnn_tests",
   "language": "python",
   "name": "dnn_tests"
  },
  "language_info": {
   "codemirror_mode": {
    "name": "ipython",
    "version": 3
   },
   "file_extension": ".py",
   "mimetype": "text/x-python",
   "name": "python",
   "nbconvert_exporter": "python",
   "pygments_lexer": "ipython3",
   "version": "3.5.2"
  }
 },
 "nbformat": 4,
 "nbformat_minor": 2
}
