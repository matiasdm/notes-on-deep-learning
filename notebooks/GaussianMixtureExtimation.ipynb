{
 "cells": [
  {
   "cell_type": "markdown",
   "metadata": {},
   "source": [
    "# Fitting empirical data using Gaussian Mixture Models"
   ]
  },
  {
   "cell_type": "markdown",
   "metadata": {},
   "source": [
    "In this notebook we aim at studying the problem of estimating the underling probability distribution of a phenomenon given empirical observations. More precisely, given IID random variables $X_i \\sim P_X$ with observations $\\{x_1, ..., x_n\\}$, we want to estimate from the observations: How many modes has $P$? If we approximate $P$ by a combination of Gaussian distributions, how many distributions we actually need to fit the data? Which are the optimal parameters of these Gaussian distributions? "
   ]
  },
  {
   "cell_type": "markdown",
   "metadata": {},
   "source": [
    "Refs:\n",
    "* https://jakevdp.github.io/PythonDataScienceHandbook/05.12-gaussian-mixtures.html\n",
    "* add the ref to the book"
   ]
  },
  {
   "cell_type": "code",
   "execution_count": 113,
   "metadata": {},
   "outputs": [],
   "source": [
    "import numpy as np\n",
    "import matplotlib.pyplot as plt\n",
    "import sklearn as skl\n",
    "import scipy.stats as stats\n",
    "import math"
   ]
  },
  {
   "cell_type": "markdown",
   "metadata": {},
   "source": [
    "### Create a toy example "
   ]
  },
  {
   "cell_type": "code",
   "execution_count": 109,
   "metadata": {},
   "outputs": [],
   "source": [
    "# === Set distribution parameters === #\n",
    "k = 4  # number of Gaussians\n",
    "sigma_0 = 1  # Set an order of magnitudo for the standard deviation\n",
    "sigmas = sigma_0*np.random.random((k,))  # The std of each of the modes \n",
    "dist = .8*sigma_0 # min distance between the gaussians\n",
    "means = -dist + np.cumsum(dist + dist*np.random.random((k,)))  # The mean of each gaussian will have a distance in [dist, 2*dist]\n",
    "priors = np.random.random((k,))\n",
    "priors /= priors.sum()  # normalized prior of each Gaussian"
   ]
  },
  {
   "cell_type": "code",
   "execution_count": 110,
   "metadata": {},
   "outputs": [
    {
     "data": {
      "image/png": "[encoded data removed]",
      "text/plain": [
       "<Figure size 432x288 with 1 Axes>"
      ]
     },
     "metadata": {
      "needs_background": "light"
     },
     "output_type": "display_data"
    }
   ],
   "source": [
    "# === Sample empirical observations from P === # \n",
    "N = 10000  # approx number of observations\n",
    "Ns = (N*priors).astype('int')\n",
    "x = np.array([])\n",
    "for i in range(k):\n",
    "    new_x = np.random.normal(loc=means[i],scale=sigmas[i],size=(Ns[i],))\n",
    "    x = np.append(x,new_x)\n",
    "\n",
    "# Shuffle the data, \n",
    "np.random.shuffle(x)\n",
    "\n",
    "if 1:\n",
    "    plt.figure()\n",
    "    plt.hist(x,bins=100, density=True)\n",
    "    xx = np.linspace(x.min(), x.max(), 100)\n",
    "    for i in range(k):\n",
    "        plt.plot(xx, priors[i]*stats.norm.pdf(xx, means[i], sigmas[i]))"
   ]
  },
  {
   "cell_type": "markdown",
   "metadata": {},
   "source": [
    "### Estimate the distributions using the data"
   ]
  },
  {
   "cell_type": "code",
   "execution_count": 144,
   "metadata": {},
   "outputs": [],
   "source": [
    "# Split the data into 80% for fitting and 20% for testing\n",
    "n = len(x)\n",
    "x_fit = x[:int(.8*n)].reshape(-1,1)\n",
    "x_eval = x[int(.8*n):].reshape(-1,1)\n",
    "\n",
    "# ==== Set fitting parameters,  ===== #\n",
    "k_e = k-0  # Set the number of gaussians \n",
    "# ----------------------------------- #\n",
    "\n",
    "# Use \"fit\" partition to estimate the distribution of the data and evaluate the estimation on eval. \n",
    "gm = mixture.GaussianMixture(n_components=k_e, tol=0.001, reg_covar=1e-10, max_iter=100, \n",
    "                             n_init=1, init_params='kmeans', verbose=1, verbose_interval=10)"
   ]
  },
  {
   "cell_type": "code",
   "execution_count": 145,
   "metadata": {},
   "outputs": [
    {
     "name": "stdout",
     "output_type": "stream",
     "text": [
      "Initialization 0\n",
      "Initialization converged: True\n",
      "Score on fit/eval data: -1.458799220771494/-1.4245620325893291\n"
     ]
    }
   ],
   "source": [
    "gm.fit(x_fit)\n",
    "print('Score on fit/eval data: {}/{}'.format(gm.score(x_fit), gm.score(x_eval)))"
   ]
  },
  {
   "cell_type": "code",
   "execution_count": 148,
   "metadata": {},
   "outputs": [],
   "source": [
    "a = gm.get_params(deep=True)"
   ]
  },
  {
   "cell_type": "code",
   "execution_count": 149,
   "metadata": {},
   "outputs": [
    {
     "data": {
      "text/plain": [
       "{'covariance_type': 'full',\n",
       " 'init_params': 'kmeans',\n",
       " 'max_iter': 100,\n",
       " 'means_init': None,\n",
       " 'n_components': 4,\n",
       " 'n_init': 1,\n",
       " 'precisions_init': None,\n",
       " 'random_state': None,\n",
       " 'reg_covar': 1e-10,\n",
       " 'tol': 0.001,\n",
       " 'verbose': 1,\n",
       " 'verbose_interval': 10,\n",
       " 'warm_start': False,\n",
       " 'weights_init': None}"
      ]
     },
     "execution_count": 149,
     "metadata": {},
     "output_type": "execute_result"
    }
   ],
   "source": [
    "a"
   ]
  },
  {
   "cell_type": "code",
   "execution_count": null,
   "metadata": {},
   "outputs": [],
   "source": []
  },
  {
   "cell_type": "code",
   "execution_count": null,
   "metadata": {},
   "outputs": [],
   "source": []
  },
  {
   "cell_type": "code",
   "execution_count": null,
   "metadata": {},
   "outputs": [],
   "source": []
  },
  {
   "cell_type": "code",
   "execution_count": null,
   "metadata": {},
   "outputs": [],
   "source": []
  },
  {
   "cell_type": "code",
   "execution_count": null,
   "metadata": {},
   "outputs": [],
   "source": []
  },
  {
   "cell_type": "code",
   "execution_count": null,
   "metadata": {},
   "outputs": [],
   "source": []
  },
  {
   "cell_type": "code",
   "execution_count": null,
   "metadata": {},
   "outputs": [],
   "source": []
  },
  {
   "cell_type": "code",
   "execution_count": null,
   "metadata": {},
   "outputs": [],
   "source": []
  },
  {
   "cell_type": "code",
   "execution_count": null,
   "metadata": {},
   "outputs": [],
   "source": []
  },
  {
   "cell_type": "code",
   "execution_count": null,
   "metadata": {},
   "outputs": [],
   "source": []
  },
  {
   "cell_type": "code",
   "execution_count": null,
   "metadata": {},
   "outputs": [],
   "source": []
  }
 ],
 "metadata": {
  "kernelspec": {
   "display_name": "dnn_tests",
   "language": "python",
   "name": "dnn_tests"
  },
  "language_info": {
   "codemirror_mode": {
    "name": "ipython",
    "version": 3
   },
   "file_extension": ".py",
   "mimetype": "text/x-python",
   "name": "python",
   "nbconvert_exporter": "python",
   "pygments_lexer": "ipython3",
   "version": "3.5.2"
  }
 },
 "nbformat": 4,
 "nbformat_minor": 2
}
